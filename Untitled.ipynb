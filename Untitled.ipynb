{
 "cells": [
  {
   "cell_type": "code",
   "execution_count": 1,
   "metadata": {},
   "outputs": [],
   "source": [
    "# 데이터 크롤링 모듈\n",
    "from selenium import webdriver\n",
    "from bs4 import BeautifulSoup\n",
    "import re\n",
    "# 데이터 분석 모듈\n",
    "import pandas as pd\n",
    "import numpy as np\n",
    "from collections import Counter\n",
    "# 한글 자연어 처리 모듈\n",
    "from konlpy.tag import Twitter\n",
    "driver = webdriver.Chrome('webdrivers/chromedriver.exe')"
   ]
  },
  {
   "cell_type": "code",
   "execution_count": 2,
   "metadata": {},
   "outputs": [],
   "source": [
    "# 조중동\n",
    "right_news_num = ['023', '025', '020']\n",
    "right_news = []\n",
    "\n",
    "# 경한\n",
    "left_news_num = ['032', '028']\n",
    "left_news = []\n",
    "\n",
    "\n",
    "# 신문사 리스트 oid\n",
    "# 네이버 기사 -> 언론사별, 신문게재기사만 -> 제목형 보기 url\n",
    "for oid in right_news_num:\n",
    "    for i in range(10,31):\n",
    "        url = 'https://news.naver.com/main/list.nhn?mode=LPOD&mid=sec&oid={}&listType=title&date=202010{}'.format(oid, i)\n",
    "        driver.get(url)\n",
    "        driver.implicitly_wait(20)\n",
    "        html = driver.find_element_by_xpath('//*[@id=\"main_content\"]/div[2]').get_attribute(\"innerHTML\")  # 기록 table을 str형태로 저장\n",
    "        soup = BeautifulSoup(html, 'html.parser')  # str 객체를 BeautifulSoup 객체로 변경\n",
    "\n",
    "        temp = [i.text.strip() for i in soup.findAll(\"a\")]  # tr 태그에서, text만 저장하기\n",
    "        temp = list(set(temp))\n",
    "        if '신문게재기사만' in temp:\n",
    "            temp.remove('신문게재기사만')\n",
    "        if '제목형' in temp:\n",
    "            temp.remove('제목형')\n",
    "        if '요약형' in temp:\n",
    "            temp.remove('요약형')\n",
    "        if '포토' in temp:\n",
    "            temp.remove('포토')\n",
    "        if '전체보기' in temp:\n",
    "            temp.remove('전체보기')\n",
    "        right_news.extend(temp)\n",
    "df_right = pd.DataFrame(right_news)\n",
    "\n",
    "for oid in left_news_num:\n",
    "    for i in range(10,31):\n",
    "        url = 'https://news.naver.com/main/list.nhn?mode=LPOD&mid=sec&oid={}&listType=title&date=202010{}'.format(oid, i)\n",
    "        driver.get(url)\n",
    "        driver.implicitly_wait(20)\n",
    "        html = driver.find_element_by_xpath('//*[@id=\"main_content\"]/div[2]').get_attribute(\"innerHTML\")  # 기록 table을 str형태로 저장\n",
    "        soup = BeautifulSoup(html, 'html.parser')  # str 객체를 BeautifulSoup 객체로 변경\n",
    "\n",
    "        temp = [i.text.strip() for i in soup.findAll(\"a\")]  # tr 태그에서, text만 저장하기\n",
    "        temp = list(set(temp))\n",
    "        if '신문게재기사만' in temp:\n",
    "            temp.remove('신문게재기사만')\n",
    "        if '제목형' in temp:\n",
    "            temp.remove('제목형')\n",
    "        if '요약형' in temp:\n",
    "            temp.remove('요약형')\n",
    "        if '포토' in temp:\n",
    "            temp.remove('포토')\n",
    "        if '전체보기' in temp:\n",
    "            temp.remove('전체보기')\n",
    "        left_news.extend(temp)\n",
    "df_left = pd.DataFrame(left_news)"
   ]
  },
  {
   "cell_type": "code",
   "execution_count": 3,
   "metadata": {
    "scrolled": true
   },
   "outputs": [
    {
     "data": {
      "text/plain": [
       "0       BTS도 군복무 예외없다는 팬클럽...이재명 “공정 가치에 부합”\n",
       "1                     문준용 “곽상도 의원님 미안합니다” 사과\n",
       "2         백악관 내 코로나 퍼졌는데..트럼프, 수백 명 불러 행사 연다\n",
       "3                          독감 백신, 이번엔 백색 침전물\n",
       "4         울산 화재 3층 테라스서 시작했나…고층까지 ‘V’ 그을린 흔적\n",
       "                        ...                 \n",
       "3398                대구예수중심교회 확진자 22명…인천·전북서도\n",
       "3399         이재명, MB 실형에 “검찰개혁으로 법·원칙 한결같아야”\n",
       "3400           LG화학 배터리 사업 ‘분할’ 확정…주주총회 ‘통과’\n",
       "3401        코로나19 신규 확진자 114명…사흘 연속 세 자릿수 기록\n",
       "3402     새롭게 정리한 상속의 의미…원만하고 의미있는 상속이 가능하려면?\n",
       "Name: 0, Length: 3403, dtype: object"
      ]
     },
     "execution_count": 3,
     "metadata": {},
     "output_type": "execute_result"
    }
   ],
   "source": [
    "df_right[0]"
   ]
  },
  {
   "cell_type": "code",
   "execution_count": 4,
   "metadata": {},
   "outputs": [
    {
     "name": "stderr",
     "output_type": "stream",
     "text": [
      "C:\\anaconda\\lib\\site-packages\\konlpy\\tag\\_okt.py:16: UserWarning: \"Twitter\" has changed to \"Okt\" since KoNLPy v0.4.5.\n",
      "  warn('\"Twitter\" has changed to \"Okt\" since KoNLPy v0.4.5.')\n"
     ]
    }
   ],
   "source": [
    "twit = Twitter()\n",
    "right, left = [], []\n",
    "for i in range(len(df_right)):\n",
    "    sen = twit.nouns(df_right[0][i])\n",
    "    for j in sen:\n",
    "        if len(j) != 1:\n",
    "            right.append(j)\n",
    "for i in range(len(df_left)):\n",
    "    sen = twit.nouns(df_left[0][i])\n",
    "    for j in sen:\n",
    "        if len(j) != 1:\n",
    "            left.append(j)"
   ]
  },
  {
   "cell_type": "code",
   "execution_count": 5,
   "metadata": {},
   "outputs": [],
   "source": [
    "cnt_right = Counter(right)\n",
    "cnt_left = Counter(left)\n",
    "tmp_50_right = cnt_right.most_common(50)\n",
    "tmp_50_left = cnt_left.most_common(50)"
   ]
  },
  {
   "cell_type": "code",
   "execution_count": 7,
   "metadata": {},
   "outputs": [],
   "source": [
    "import pytagcloud"
   ]
  },
  {
   "cell_type": "code",
   "execution_count": 8,
   "metadata": {
    "scrolled": false
   },
   "outputs": [],
   "source": [
    "tag_list = pytagcloud.make_tags(tmp_50_right, maxsize=50)\n",
    "pytagcloud.create_tag_image(tag_list, 'right.png', fontname='BMJUA', size=(600,400))\n",
    "tag_list = pytagcloud.make_tags(tmp_50_left, maxsize=50)\n",
    "pytagcloud.create_tag_image(tag_list, 'left.png', fontname='BMJUA', size=(600,400))"
   ]
  },
  {
   "cell_type": "code",
   "execution_count": null,
   "metadata": {},
   "outputs": [],
   "source": []
  }
 ],
 "metadata": {
  "kernelspec": {
   "display_name": "Python 3",
   "language": "python",
   "name": "python3"
  },
  "language_info": {
   "codemirror_mode": {
    "name": "ipython",
    "version": 3
   },
   "file_extension": ".py",
   "mimetype": "text/x-python",
   "name": "python",
   "nbconvert_exporter": "python",
   "pygments_lexer": "ipython3",
   "version": "3.8.3"
  }
 },
 "nbformat": 4,
 "nbformat_minor": 4
}
